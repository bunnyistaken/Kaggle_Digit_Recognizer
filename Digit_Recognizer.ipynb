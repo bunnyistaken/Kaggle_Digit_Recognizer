{
 "cells": [
  {
   "cell_type": "code",
   "execution_count": 73,
   "metadata": {},
   "outputs": [],
   "source": [
    "# Importing Required Libraries\n",
    "import numpy as np\n",
    "import pandas as pd\n",
    "import tensorflow as tf\n",
    "from tensorflow.keras.layers import Dense, Input, Conv2D, MaxPooling2D, Flatten, Dropout\n",
    "from tensorflow.keras.models import Sequential\n",
    "from tensorflow.keras.optimizers import Adam\n",
    "from tensorflow.keras.regularizers import l2\n",
    "import cv2\n",
    "import seaborn as sns\n",
    "import matplotlib.pyplot as plt"
   ]
  },
  {
   "cell_type": "code",
   "execution_count": 51,
   "metadata": {},
   "outputs": [
    {
     "name": "stdout",
     "output_type": "stream",
     "text": [
      "<class 'pandas.core.frame.DataFrame'>\n",
      "RangeIndex: 42000 entries, 0 to 41999\n",
      "Columns: 785 entries, label to pixel783\n",
      "dtypes: int64(785)\n",
      "memory usage: 251.5 MB\n",
      "None\n"
     ]
    },
    {
     "data": {
      "text/html": [
       "<div>\n",
       "<style scoped>\n",
       "    .dataframe tbody tr th:only-of-type {\n",
       "        vertical-align: middle;\n",
       "    }\n",
       "\n",
       "    .dataframe tbody tr th {\n",
       "        vertical-align: top;\n",
       "    }\n",
       "\n",
       "    .dataframe thead th {\n",
       "        text-align: right;\n",
       "    }\n",
       "</style>\n",
       "<table border=\"1\" class=\"dataframe\">\n",
       "  <thead>\n",
       "    <tr style=\"text-align: right;\">\n",
       "      <th></th>\n",
       "      <th>label</th>\n",
       "      <th>pixel0</th>\n",
       "      <th>pixel1</th>\n",
       "      <th>pixel2</th>\n",
       "      <th>pixel3</th>\n",
       "      <th>pixel4</th>\n",
       "      <th>pixel5</th>\n",
       "      <th>pixel6</th>\n",
       "      <th>pixel7</th>\n",
       "      <th>pixel8</th>\n",
       "      <th>...</th>\n",
       "      <th>pixel774</th>\n",
       "      <th>pixel775</th>\n",
       "      <th>pixel776</th>\n",
       "      <th>pixel777</th>\n",
       "      <th>pixel778</th>\n",
       "      <th>pixel779</th>\n",
       "      <th>pixel780</th>\n",
       "      <th>pixel781</th>\n",
       "      <th>pixel782</th>\n",
       "      <th>pixel783</th>\n",
       "    </tr>\n",
       "  </thead>\n",
       "  <tbody>\n",
       "    <tr>\n",
       "      <th>0</th>\n",
       "      <td>1</td>\n",
       "      <td>0</td>\n",
       "      <td>0</td>\n",
       "      <td>0</td>\n",
       "      <td>0</td>\n",
       "      <td>0</td>\n",
       "      <td>0</td>\n",
       "      <td>0</td>\n",
       "      <td>0</td>\n",
       "      <td>0</td>\n",
       "      <td>...</td>\n",
       "      <td>0</td>\n",
       "      <td>0</td>\n",
       "      <td>0</td>\n",
       "      <td>0</td>\n",
       "      <td>0</td>\n",
       "      <td>0</td>\n",
       "      <td>0</td>\n",
       "      <td>0</td>\n",
       "      <td>0</td>\n",
       "      <td>0</td>\n",
       "    </tr>\n",
       "    <tr>\n",
       "      <th>1</th>\n",
       "      <td>0</td>\n",
       "      <td>0</td>\n",
       "      <td>0</td>\n",
       "      <td>0</td>\n",
       "      <td>0</td>\n",
       "      <td>0</td>\n",
       "      <td>0</td>\n",
       "      <td>0</td>\n",
       "      <td>0</td>\n",
       "      <td>0</td>\n",
       "      <td>...</td>\n",
       "      <td>0</td>\n",
       "      <td>0</td>\n",
       "      <td>0</td>\n",
       "      <td>0</td>\n",
       "      <td>0</td>\n",
       "      <td>0</td>\n",
       "      <td>0</td>\n",
       "      <td>0</td>\n",
       "      <td>0</td>\n",
       "      <td>0</td>\n",
       "    </tr>\n",
       "    <tr>\n",
       "      <th>2</th>\n",
       "      <td>1</td>\n",
       "      <td>0</td>\n",
       "      <td>0</td>\n",
       "      <td>0</td>\n",
       "      <td>0</td>\n",
       "      <td>0</td>\n",
       "      <td>0</td>\n",
       "      <td>0</td>\n",
       "      <td>0</td>\n",
       "      <td>0</td>\n",
       "      <td>...</td>\n",
       "      <td>0</td>\n",
       "      <td>0</td>\n",
       "      <td>0</td>\n",
       "      <td>0</td>\n",
       "      <td>0</td>\n",
       "      <td>0</td>\n",
       "      <td>0</td>\n",
       "      <td>0</td>\n",
       "      <td>0</td>\n",
       "      <td>0</td>\n",
       "    </tr>\n",
       "    <tr>\n",
       "      <th>3</th>\n",
       "      <td>4</td>\n",
       "      <td>0</td>\n",
       "      <td>0</td>\n",
       "      <td>0</td>\n",
       "      <td>0</td>\n",
       "      <td>0</td>\n",
       "      <td>0</td>\n",
       "      <td>0</td>\n",
       "      <td>0</td>\n",
       "      <td>0</td>\n",
       "      <td>...</td>\n",
       "      <td>0</td>\n",
       "      <td>0</td>\n",
       "      <td>0</td>\n",
       "      <td>0</td>\n",
       "      <td>0</td>\n",
       "      <td>0</td>\n",
       "      <td>0</td>\n",
       "      <td>0</td>\n",
       "      <td>0</td>\n",
       "      <td>0</td>\n",
       "    </tr>\n",
       "    <tr>\n",
       "      <th>4</th>\n",
       "      <td>0</td>\n",
       "      <td>0</td>\n",
       "      <td>0</td>\n",
       "      <td>0</td>\n",
       "      <td>0</td>\n",
       "      <td>0</td>\n",
       "      <td>0</td>\n",
       "      <td>0</td>\n",
       "      <td>0</td>\n",
       "      <td>0</td>\n",
       "      <td>...</td>\n",
       "      <td>0</td>\n",
       "      <td>0</td>\n",
       "      <td>0</td>\n",
       "      <td>0</td>\n",
       "      <td>0</td>\n",
       "      <td>0</td>\n",
       "      <td>0</td>\n",
       "      <td>0</td>\n",
       "      <td>0</td>\n",
       "      <td>0</td>\n",
       "    </tr>\n",
       "  </tbody>\n",
       "</table>\n",
       "<p>5 rows × 785 columns</p>\n",
       "</div>"
      ],
      "text/plain": [
       "   label  pixel0  pixel1  pixel2  pixel3  pixel4  pixel5  pixel6  pixel7  \\\n",
       "0      1       0       0       0       0       0       0       0       0   \n",
       "1      0       0       0       0       0       0       0       0       0   \n",
       "2      1       0       0       0       0       0       0       0       0   \n",
       "3      4       0       0       0       0       0       0       0       0   \n",
       "4      0       0       0       0       0       0       0       0       0   \n",
       "\n",
       "   pixel8  ...  pixel774  pixel775  pixel776  pixel777  pixel778  pixel779  \\\n",
       "0       0  ...         0         0         0         0         0         0   \n",
       "1       0  ...         0         0         0         0         0         0   \n",
       "2       0  ...         0         0         0         0         0         0   \n",
       "3       0  ...         0         0         0         0         0         0   \n",
       "4       0  ...         0         0         0         0         0         0   \n",
       "\n",
       "   pixel780  pixel781  pixel782  pixel783  \n",
       "0         0         0         0         0  \n",
       "1         0         0         0         0  \n",
       "2         0         0         0         0  \n",
       "3         0         0         0         0  \n",
       "4         0         0         0         0  \n",
       "\n",
       "[5 rows x 785 columns]"
      ]
     },
     "execution_count": 51,
     "metadata": {},
     "output_type": "execute_result"
    }
   ],
   "source": [
    "# Reading Data from provided .csv file\n",
    "data = pd.read_csv('./data/train.csv')\n",
    "print(data.info())\n",
    "data.head()"
   ]
  },
  {
   "cell_type": "code",
   "execution_count": 52,
   "metadata": {},
   "outputs": [
    {
     "data": {
      "text/plain": [
       "(42000, 10)"
      ]
     },
     "execution_count": 52,
     "metadata": {},
     "output_type": "execute_result"
    }
   ],
   "source": [
    "# Retrieving labels from Data\n",
    "labels = data['label']\n",
    "\n",
    "# Converting into One-Hot Vectors for Classification\n",
    "labels = pd.get_dummies(labels)\n",
    "labels.shape"
   ]
  },
  {
   "cell_type": "code",
   "execution_count": 53,
   "metadata": {},
   "outputs": [
    {
     "data": {
      "text/plain": [
       "(42000, 784)"
      ]
     },
     "execution_count": 53,
     "metadata": {},
     "output_type": "execute_result"
    }
   ],
   "source": [
    "# Retrieving all pixel columns from Data\n",
    "data = data.iloc[:,1:]\n",
    "data.shape "
   ]
  },
  {
   "cell_type": "code",
   "execution_count": 54,
   "metadata": {},
   "outputs": [
    {
     "data": {
      "text/plain": [
       "((40000, 784), (40000, 10))"
      ]
     },
     "execution_count": 54,
     "metadata": {},
     "output_type": "execute_result"
    }
   ],
   "source": [
    "# Taking 40000 images to Train the model\n",
    "train_data = data[2000:]\n",
    "train_labels = labels[2000:]\n",
    "\n",
    "train_data.shape, train_labels.shape"
   ]
  },
  {
   "cell_type": "code",
   "execution_count": 55,
   "metadata": {},
   "outputs": [
    {
     "data": {
      "text/plain": [
       "((2000, 784), (2000, 10))"
      ]
     },
     "execution_count": 55,
     "metadata": {},
     "output_type": "execute_result"
    }
   ],
   "source": [
    "# Taking 2000 images for Cross Validation\n",
    "test_data = data[:2000]\n",
    "test_labels = labels[:2000]\n",
    "\n",
    "test_data.shape, test_labels.shape"
   ]
  },
  {
   "cell_type": "code",
   "execution_count": 10,
   "metadata": {
    "scrolled": true
   },
   "outputs": [
    {
     "name": "stdout",
     "output_type": "stream",
     "text": [
      "Model: \"sequential\"\n",
      "_________________________________________________________________\n",
      "Layer (type)                 Output Shape              Param #   \n",
      "=================================================================\n",
      "dense (Dense)                (None, 64)                50240     \n",
      "_________________________________________________________________\n",
      "dense_1 (Dense)              (None, 128)               8320      \n",
      "_________________________________________________________________\n",
      "dense_2 (Dense)              (None, 256)               33024     \n",
      "_________________________________________________________________\n",
      "dense_3 (Dense)              (None, 10)                2570      \n",
      "=================================================================\n",
      "Total params: 94,154\n",
      "Trainable params: 94,154\n",
      "Non-trainable params: 0\n",
      "_________________________________________________________________\n"
     ]
    }
   ],
   "source": [
    "# Standard loc and scale values for kernel initializer \n",
    "def initialize_weights(shape, dtype=None):\n",
    "    \n",
    "    return np.random.normal(loc = 0.0, scale = 1e-2, size = shape)\n",
    "\n",
    "# Standard loc and scale values for bias initializer\n",
    "def initialize_bias(shape, dtype=None):\n",
    "    \n",
    "    return np.random.normal(loc = 0.5, scale = 1e-2, size = shape)\n",
    "\n",
    "def DeepLearningModel(input_shape):\n",
    "    model = Sequential()\n",
    "    \n",
    "    model.add(Input(input_shape))\n",
    "    \n",
    "    model.add(Dense(64, activation='relu', kernel_initializer=initialize_weights, bias_initializer=initialize_bias, kernel_regularizer=l2(3e-3)))\n",
    "    \n",
    "    model.add(Dense(128, activation='relu', kernel_initializer=initialize_weights, bias_initializer=initialize_bias, kernel_regularizer=l2(3e-3)))\n",
    "\n",
    "    model.add(Dense(256, activation='relu', kernel_initializer=initialize_weights, bias_initializer=initialize_bias, kernel_regularizer=l2(3e-3)))\n",
    "                \n",
    "    model.add(Dense(10, activation='softmax', kernel_initializer=initialize_weights, bias_initializer=initialize_bias, kernel_regularizer=l2(3e-3)))    \n",
    "    \n",
    "    return model\n",
    "\n",
    "\n",
    "model = DeepLearningModel((784))\n",
    "model.summary()"
   ]
  },
  {
   "cell_type": "code",
   "execution_count": 11,
   "metadata": {
    "scrolled": true
   },
   "outputs": [
    {
     "name": "stdout",
     "output_type": "stream",
     "text": [
      "Epoch 1/50\n",
      "313/313 [==============================] - 1s 3ms/step - loss: 0.9176 - accuracy: 0.7241\n",
      "Epoch 2/50\n",
      "313/313 [==============================] - 1s 3ms/step - loss: 0.2472 - accuracy: 0.9362\n",
      "Epoch 3/50\n",
      "313/313 [==============================] - 1s 3ms/step - loss: 0.1838 - accuracy: 0.9572\n",
      "Epoch 4/50\n",
      "313/313 [==============================] - 1s 2ms/step - loss: 0.1552 - accuracy: 0.9664\n",
      "Epoch 5/50\n",
      "313/313 [==============================] - 1s 2ms/step - loss: 0.1315 - accuracy: 0.9732\n",
      "Epoch 6/50\n",
      "313/313 [==============================] - 1s 2ms/step - loss: 0.1248 - accuracy: 0.9752\n",
      "Epoch 7/50\n",
      "313/313 [==============================] - 1s 2ms/step - loss: 0.1130 - accuracy: 0.9802\n",
      "Epoch 8/50\n",
      "313/313 [==============================] - 1s 2ms/step - loss: 0.1083 - accuracy: 0.9804\n",
      "Epoch 9/50\n",
      "313/313 [==============================] - 1s 2ms/step - loss: 0.0964 - accuracy: 0.9850\n",
      "Epoch 10/50\n",
      "313/313 [==============================] - 1s 3ms/step - loss: 0.0940 - accuracy: 0.9866\n",
      "Epoch 11/50\n",
      "313/313 [==============================] - 1s 2ms/step - loss: 0.0956 - accuracy: 0.9863\n",
      "Epoch 12/50\n",
      "313/313 [==============================] - 1s 2ms/step - loss: 0.0910 - accuracy: 0.9872\n",
      "Epoch 13/50\n",
      "313/313 [==============================] - 1s 2ms/step - loss: 0.0899 - accuracy: 0.9877\n",
      "Epoch 14/50\n",
      "313/313 [==============================] - 1s 3ms/step - loss: 0.0846 - accuracy: 0.9895\n",
      "Epoch 15/50\n",
      "313/313 [==============================] - 1s 3ms/step - loss: 0.0826 - accuracy: 0.9905\n",
      "Epoch 16/50\n",
      "313/313 [==============================] - 1s 3ms/step - loss: 0.0816 - accuracy: 0.9912\n",
      "Epoch 17/50\n",
      "313/313 [==============================] - 1s 3ms/step - loss: 0.0833 - accuracy: 0.9899\n",
      "Epoch 18/50\n",
      "313/313 [==============================] - 1s 3ms/step - loss: 0.0832 - accuracy: 0.9905\n",
      "Epoch 19/50\n",
      "313/313 [==============================] - 1s 2ms/step - loss: 0.0789 - accuracy: 0.9918\n",
      "Epoch 20/50\n",
      "313/313 [==============================] - 1s 2ms/step - loss: 0.0850 - accuracy: 0.9895\n",
      "Epoch 21/50\n",
      "313/313 [==============================] - 1s 2ms/step - loss: 0.0796 - accuracy: 0.9921\n",
      "Epoch 22/50\n",
      "313/313 [==============================] - 1s 3ms/step - loss: 0.0759 - accuracy: 0.9929\n",
      "Epoch 23/50\n",
      "313/313 [==============================] - 1s 3ms/step - loss: 0.0749 - accuracy: 0.9933\n",
      "Epoch 24/50\n",
      "313/313 [==============================] - 1s 3ms/step - loss: 0.0760 - accuracy: 0.9926\n",
      "Epoch 25/50\n",
      "313/313 [==============================] - 1s 3ms/step - loss: 0.0753 - accuracy: 0.9931\n",
      "Epoch 26/50\n",
      "313/313 [==============================] - 1s 2ms/step - loss: 0.0772 - accuracy: 0.9929\n",
      "Epoch 27/50\n",
      "313/313 [==============================] - 1s 2ms/step - loss: 0.0718 - accuracy: 0.9944\n",
      "Epoch 28/50\n",
      "313/313 [==============================] - 1s 2ms/step - loss: 0.0718 - accuracy: 0.9936\n",
      "Epoch 29/50\n",
      "313/313 [==============================] - 1s 2ms/step - loss: 0.0761 - accuracy: 0.9927\n",
      "Epoch 30/50\n",
      "313/313 [==============================] - 1s 3ms/step - loss: 0.0703 - accuracy: 0.9954\n",
      "Epoch 31/50\n",
      "313/313 [==============================] - 1s 3ms/step - loss: 0.0777 - accuracy: 0.9910\n",
      "Epoch 32/50\n",
      "313/313 [==============================] - 1s 3ms/step - loss: 0.0753 - accuracy: 0.9935\n",
      "Epoch 33/50\n",
      "313/313 [==============================] - 1s 3ms/step - loss: 0.0726 - accuracy: 0.9945\n",
      "Epoch 34/50\n",
      "313/313 [==============================] - 1s 2ms/step - loss: 0.0752 - accuracy: 0.9936\n",
      "Epoch 35/50\n",
      "313/313 [==============================] - 1s 3ms/step - loss: 0.0703 - accuracy: 0.9945\n",
      "Epoch 36/50\n",
      "313/313 [==============================] - 1s 3ms/step - loss: 0.0697 - accuracy: 0.9949\n",
      "Epoch 37/50\n",
      "313/313 [==============================] - 1s 2ms/step - loss: 0.0664 - accuracy: 0.9961\n",
      "Epoch 38/50\n",
      "313/313 [==============================] - 1s 2ms/step - loss: 0.0734 - accuracy: 0.9934\n",
      "Epoch 39/50\n",
      "313/313 [==============================] - 1s 3ms/step - loss: 0.0740 - accuracy: 0.9942\n",
      "Epoch 40/50\n",
      "313/313 [==============================] - 1s 2ms/step - loss: 0.0679 - accuracy: 0.9954\n",
      "Epoch 41/50\n",
      "313/313 [==============================] - 1s 2ms/step - loss: 0.0685 - accuracy: 0.9955\n",
      "Epoch 42/50\n",
      "313/313 [==============================] - 1s 2ms/step - loss: 0.0668 - accuracy: 0.9955\n",
      "Epoch 43/50\n",
      "313/313 [==============================] - 1s 2ms/step - loss: 0.0724 - accuracy: 0.9939\n",
      "Epoch 44/50\n",
      "313/313 [==============================] - 1s 3ms/step - loss: 0.0708 - accuracy: 0.9946\n",
      "Epoch 45/50\n",
      "313/313 [==============================] - 1s 3ms/step - loss: 0.0695 - accuracy: 0.9946\n",
      "Epoch 46/50\n",
      "313/313 [==============================] - 1s 3ms/step - loss: 0.0675 - accuracy: 0.9953\n",
      "Epoch 47/50\n",
      "313/313 [==============================] - 1s 3ms/step - loss: 0.0608 - accuracy: 0.9979\n",
      "Epoch 48/50\n",
      "313/313 [==============================] - 1s 2ms/step - loss: 0.0766 - accuracy: 0.9920\n",
      "Epoch 49/50\n",
      "313/313 [==============================] - 1s 2ms/step - loss: 0.0684 - accuracy: 0.9946\n",
      "Epoch 50/50\n",
      "313/313 [==============================] - 1s 3ms/step - loss: 0.0716 - accuracy: 0.9938\n"
     ]
    }
   ],
   "source": [
    "# Hyperparameters\n",
    "lr = 0.0003\n",
    "epochs = 50\n",
    "batch_size = 128\n",
    "\n",
    "optimizer = Adam(lr)\n",
    "model.compile(optimizer=optimizer, loss='categorical_crossentropy', metrics=['accuracy'])\n",
    "history = model.fit(train_data, train_labels, epochs=epochs, batch_size=batch_size)"
   ]
  },
  {
   "cell_type": "code",
   "execution_count": 12,
   "metadata": {},
   "outputs": [
    {
     "name": "stdout",
     "output_type": "stream",
     "text": [
      "63/63 [==============================] - 0s 775us/step - loss: 0.1403 - accuracy: 0.9700\n"
     ]
    },
    {
     "data": {
      "text/plain": [
       "[0.14025822281837463, 0.9700000286102295]"
      ]
     },
     "execution_count": 12,
     "metadata": {},
     "output_type": "execute_result"
    }
   ],
   "source": [
    "# Evaluating model using Validation Data\n",
    "model.evaluate(test_data, test_labels)"
   ]
  },
  {
   "cell_type": "code",
   "execution_count": 13,
   "metadata": {},
   "outputs": [
    {
     "name": "stdout",
     "output_type": "stream",
     "text": [
      "<class 'pandas.core.frame.DataFrame'>\n",
      "RangeIndex: 28000 entries, 0 to 27999\n",
      "Columns: 784 entries, pixel0 to pixel783\n",
      "dtypes: int64(784)\n",
      "memory usage: 167.5 MB\n"
     ]
    }
   ],
   "source": [
    "# Reading Test Dataset\n",
    "test = pd.read_csv('./data/test.csv')\n",
    "test.info()"
   ]
  },
  {
   "cell_type": "code",
   "execution_count": 14,
   "metadata": {},
   "outputs": [],
   "source": [
    "# Making Predictions on existing model.\n",
    "prediction = model.predict(test)\n",
    "\n",
    "# Rounding the prediction and converting float64 output to int64 output.\n",
    "prediction = np.array(np.round(prediction), dtype='int64')\n",
    "\n",
    "# Converting one-hot encoding into label encoding\n",
    "prediction = (np.argmax(prediction, axis=1)).reshape(-1, 1)\n",
    "\n",
    "# Creating a DataFrame similar to Example Submission\n",
    "out = [{'ImageId': i+1, 'Label': prediction[i][0]} for i in range(len(prediction))]\n",
    "\n",
    "# Creating a .csv file from the DataFrame\n",
    "pd.DataFrame(out).to_csv('submission.csv', index=False)"
   ]
  },
  {
   "cell_type": "markdown",
   "metadata": {},
   "source": [
    "#### Achieved 97% accuracy with Deep Learning Classifier\n",
    "\n",
    "Now let's see how a Convolutional Neural Network will perform on the Dataset."
   ]
  },
  {
   "cell_type": "code",
   "execution_count": 56,
   "metadata": {},
   "outputs": [
    {
     "data": {
      "text/plain": [
       "((42000, 28, 28, 1), (42000, 10))"
      ]
     },
     "execution_count": 56,
     "metadata": {},
     "output_type": "execute_result"
    }
   ],
   "source": [
    "imgdata = np.reshape(np.array(data),(data.shape[0],28,28,1))\n",
    "imglabels = labels\n",
    "\n",
    "imgdata.shape, imglabels.shape"
   ]
  },
  {
   "cell_type": "code",
   "execution_count": 57,
   "metadata": {},
   "outputs": [
    {
     "data": {
      "text/plain": [
       "((40000, 28, 28, 1), (40000, 10))"
      ]
     },
     "execution_count": 57,
     "metadata": {},
     "output_type": "execute_result"
    }
   ],
   "source": [
    "# Taking 40000 images to Train the model\n",
    "img_train_data = imgdata[2000:]\n",
    "img_train_labels = imglabels[2000:]\n",
    "\n",
    "img_train_data.shape, img_train_labels.shape"
   ]
  },
  {
   "cell_type": "code",
   "execution_count": 58,
   "metadata": {},
   "outputs": [
    {
     "data": {
      "text/plain": [
       "((2000, 28, 28, 1), (2000, 10))"
      ]
     },
     "execution_count": 58,
     "metadata": {},
     "output_type": "execute_result"
    }
   ],
   "source": [
    "# Taking 2000 images for Cross Validation\n",
    "img_test_data = imgdata[:2000]\n",
    "img_test_labels = imglabels[:2000]\n",
    "\n",
    "img_test_data.shape, img_test_labels.shape"
   ]
  },
  {
   "cell_type": "code",
   "execution_count": 74,
   "metadata": {},
   "outputs": [],
   "source": [
    "# Building an Image Dataset for a Convolutional Neural Network.\n",
    "def convolutional_model(input_shape):\n",
    "    model = Sequential()\n",
    "    \n",
    "    model.add(Conv2D(32, (3,3), activation='relu', input_shape=input_shape,\n",
    "                   kernel_initializer=initialize_weights, kernel_regularizer=l2(2e-4)))\n",
    "    \n",
    "    model.add(MaxPooling2D())\n",
    "    \n",
    "    model.add(Dropout(0.25))\n",
    "    \n",
    "    model.add(Conv2D(32, (3,3), activation='relu', kernel_initializer=initialize_weights,\n",
    "                     bias_initializer=initialize_bias, kernel_regularizer=l2(2e-4)))\n",
    "    \n",
    "    model.add(MaxPooling2D())\n",
    "    \n",
    "    model.add(Dropout(0.25))\n",
    "    \n",
    "    model.add(Conv2D(32, (3,3), activation='relu', kernel_initializer=initialize_weights,\n",
    "                     bias_initializer=initialize_bias, kernel_regularizer=l2(2e-4)))\n",
    "    \n",
    "    model.add(Flatten())\n",
    "    \n",
    "    model.add(Dense(1024, activation='relu',\n",
    "                   kernel_regularizer=l2(1e-3),\n",
    "                   kernel_initializer=initialize_weights,bias_initializer=initialize_bias))\n",
    "    \n",
    "    model.add(Dense(10, activation='softmax',\n",
    "                   kernel_regularizer=l2(1e-3),\n",
    "                   kernel_initializer=initialize_weights,bias_initializer=initialize_bias))\n",
    "    return model"
   ]
  },
  {
   "cell_type": "code",
   "execution_count": 78,
   "metadata": {},
   "outputs": [
    {
     "name": "stdout",
     "output_type": "stream",
     "text": [
      "Model: \"sequential_17\"\n",
      "_________________________________________________________________\n",
      "Layer (type)                 Output Shape              Param #   \n",
      "=================================================================\n",
      "conv2d_36 (Conv2D)           (None, 26, 26, 32)        320       \n",
      "_________________________________________________________________\n",
      "max_pooling2d_21 (MaxPooling (None, 13, 13, 32)        0         \n",
      "_________________________________________________________________\n",
      "dropout_2 (Dropout)          (None, 13, 13, 32)        0         \n",
      "_________________________________________________________________\n",
      "conv2d_37 (Conv2D)           (None, 11, 11, 32)        9248      \n",
      "_________________________________________________________________\n",
      "max_pooling2d_22 (MaxPooling (None, 5, 5, 32)          0         \n",
      "_________________________________________________________________\n",
      "dropout_3 (Dropout)          (None, 5, 5, 32)          0         \n",
      "_________________________________________________________________\n",
      "conv2d_38 (Conv2D)           (None, 3, 3, 32)          9248      \n",
      "_________________________________________________________________\n",
      "flatten_8 (Flatten)          (None, 288)               0         \n",
      "_________________________________________________________________\n",
      "dense_23 (Dense)             (None, 1024)              295936    \n",
      "_________________________________________________________________\n",
      "dense_24 (Dense)             (None, 10)                10250     \n",
      "=================================================================\n",
      "Total params: 325,002\n",
      "Trainable params: 325,002\n",
      "Non-trainable params: 0\n",
      "_________________________________________________________________\n"
     ]
    }
   ],
   "source": [
    "model = convolutional_model((28,28,1))\n",
    "model.summary()"
   ]
  },
  {
   "cell_type": "code",
   "execution_count": 79,
   "metadata": {},
   "outputs": [
    {
     "name": "stdout",
     "output_type": "stream",
     "text": [
      "Epoch 1/10\n",
      "313/313 [==============================] - 11s 34ms/step - loss: 1.0601 - accuracy: 0.6510\n",
      "Epoch 2/10\n",
      "313/313 [==============================] - 12s 38ms/step - loss: 0.1498 - accuracy: 0.9639\n",
      "Epoch 3/10\n",
      "313/313 [==============================] - 12s 39ms/step - loss: 0.1204 - accuracy: 0.9711\n",
      "Epoch 4/10\n",
      "313/313 [==============================] - 11s 35ms/step - loss: 0.0984 - accuracy: 0.9784\n",
      "Epoch 5/10\n",
      "313/313 [==============================] - 11s 34ms/step - loss: 0.0864 - accuracy: 0.9814\n",
      "Epoch 6/10\n",
      "313/313 [==============================] - 12s 37ms/step - loss: 0.0801 - accuracy: 0.9831\n",
      "Epoch 7/10\n",
      "313/313 [==============================] - 12s 38ms/step - loss: 0.0709 - accuracy: 0.9859\n",
      "Epoch 8/10\n",
      "313/313 [==============================] - 12s 39ms/step - loss: 0.0707 - accuracy: 0.9855\n",
      "Epoch 9/10\n",
      "313/313 [==============================] - 15s 47ms/step - loss: 0.0679 - accuracy: 0.9863\n",
      "Epoch 10/10\n",
      "313/313 [==============================] - 17s 55ms/step - loss: 0.0649 - accuracy: 0.9869\n"
     ]
    }
   ],
   "source": [
    "# Hyperparameters\n",
    "lr = 0.0003\n",
    "epochs = 10\n",
    "batch_size = 128\n",
    "\n",
    "optimizer = Adam(lr)\n",
    "model.compile(optimizer=optimizer, loss='categorical_crossentropy', metrics=['accuracy'])\n",
    "history = model.fit(img_train_data, img_train_labels, epochs=epochs, batch_size=batch_size)"
   ]
  },
  {
   "cell_type": "code",
   "execution_count": 80,
   "metadata": {},
   "outputs": [
    {
     "name": "stdout",
     "output_type": "stream",
     "text": [
      "63/63 [==============================] - 0s 3ms/step - loss: 0.0547 - accuracy: 0.9910\n"
     ]
    },
    {
     "data": {
      "text/plain": [
       "[0.05468718707561493, 0.9909999966621399]"
      ]
     },
     "execution_count": 80,
     "metadata": {},
     "output_type": "execute_result"
    }
   ],
   "source": [
    "model.evaluate(img_test_data, img_test_labels)"
   ]
  },
  {
   "cell_type": "code",
   "execution_count": 81,
   "metadata": {},
   "outputs": [],
   "source": [
    "# Reading Test Dataset\n",
    "test = pd.read_csv('./data/test.csv')\n",
    "test = np.reshape(np.array(test), (test.shape[0], 28, 28, 1))"
   ]
  },
  {
   "cell_type": "code",
   "execution_count": 82,
   "metadata": {},
   "outputs": [],
   "source": [
    "# Making Predictions on existing model.\n",
    "prediction = model.predict(test)\n",
    "\n",
    "# Rounding the prediction and converting float64 output to int64 output.\n",
    "prediction = np.array(np.round(prediction), dtype='int64')\n",
    "\n",
    "# Converting one-hot encoding into label encoding\n",
    "prediction = (np.argmax(prediction, axis=1)).reshape(-1, 1)\n",
    "\n",
    "# Creating a DataFrame similar to Example Submission\n",
    "out = [{'ImageId': i+1, 'Label': prediction[i][0]} for i in range(len(prediction))]\n",
    "\n",
    "# Creating a .csv file from the DataFrame\n",
    "pd.DataFrame(out).to_csv('submission_v2.csv', index=False)"
   ]
  },
  {
   "cell_type": "code",
   "execution_count": null,
   "metadata": {},
   "outputs": [],
   "source": []
  }
 ],
 "metadata": {
  "kernelspec": {
   "display_name": "Python 3",
   "language": "python",
   "name": "python3"
  },
  "language_info": {
   "codemirror_mode": {
    "name": "ipython",
    "version": 3
   },
   "file_extension": ".py",
   "mimetype": "text/x-python",
   "name": "python",
   "nbconvert_exporter": "python",
   "pygments_lexer": "ipython3",
   "version": "3.8.5"
  }
 },
 "nbformat": 4,
 "nbformat_minor": 4
}
